{
 "cells": [
  {
   "cell_type": "markdown",
   "id": "34e1f293-f174-4b54-be23-0f7e17b9915b",
   "metadata": {},
   "source": [
    "<div align=\"center\"><!logo and information about the code>\n",
    "    <a href=\"https://codingbat.com/python\">\n",
    "        <h1><font color=\"blue\">CodingBat</font></h1>\n",
    "    </a>\n",
    "<!Logo>\n",
    "    <img src=\"../images/logo.png\">\n",
    "    <br/>\n",
    "<!Language and Code info>\n",
    "    <img src=https://img.shields.io/badge/Language-Python-green?logo=python&logoColor=white\n",
    "         alt=\"Language - Python\">\n",
    "    <img src=\"https://img.shields.io/github/license/whitespace-code/daily_challenges\"\n",
    "         alt=\"License\" >\n",
    "    <img src=https://img.shields.io/badge/Status-completed-green\n",
    "         alt=\"Status\">\n",
    "    <br/>\n",
    "<!Jupyter>\n",
    "    <img src=\"https://img.shields.io/badge/Powered%20by%20Jupyter-blue?logo=jupyter&logoColor=F37626&label=&labelColor=4D4D4D&style=for-the-badge&color=F37626\">\n",
    "    <hr/>\n",
    "</div>    "
   ]
  },
  {
   "cell_type": "markdown",
   "id": "4b94f10a-3c6a-479f-a077-db8529a39470",
   "metadata": {},
   "source": [
    "### Instructions\n",
    "#### Stage:\n",
    ">Warmup-1\n",
    "#### Problem:\n",
    ">missing_char\n",
    "<div style=\"background-color: #D3D3D3 ; padding: 10px; border: 1px solid #9E9E9E ;\">\n",
    "    Given a non-empty string and an int n, return a new string where the char at index n has been removed. <br/>\n",
    "    The value of n will be a valid index of a char in the original string (i.e. n will be in the range 0..len(str)-1 inclusive).\n",
    "</div>\n",
    "\n",
    "```\n",
    "missing_char('kitten', 1) → 'ktten'\n",
    "missing_char('kitten', 0) → 'itten'\n",
    "missing_char('kitten', 4) → 'kittn'\n",
    "```\n",
    "___"
   ]
  },
  {
   "cell_type": "code",
   "execution_count": 1,
   "id": "7d10643e-2e8a-4759-b4b5-1b474d4fe5a9",
   "metadata": {},
   "outputs": [],
   "source": [
    "def missing_char(_str, n):\n",
    "    str_len = len(_str)\n",
    "    #first test if n is within string lenght\n",
    "    if n<0 or n>str_len:\n",
    "        #if not within parameters display message to try again\n",
    "        _err = \"\\n\".join(\n",
    "            \"Parameter 'n' is outside is valid range \\n\",\n",
    "            \"Please enter a value between 0 and \",\n",
    "            str(str_len),\n",
    "            \"and try again\"\n",
    "        )\n",
    "        return _err\n",
    "    else:\n",
    "        new_str = \"\"\n",
    "        for char in range(str_len):\n",
    "            if char != n:\n",
    "                new_str = new_str + _str[char]\n",
    "        return new_str"
   ]
  },
  {
   "cell_type": "code",
   "execution_count": 11,
   "id": "ff33bf86-4fbe-47e0-b494-841a11a80895",
   "metadata": {},
   "outputs": [],
   "source": [
    "# Decorator to calculate the time taken by any function\n",
    "# import libraries\n",
    "import time\n",
    "import math\n",
    "\n",
    "# decorator to calculate duration\n",
    "# taken by any function\n",
    "def calculate_time_taken(func):\n",
    "\n",
    "    # if function takes arguments,\n",
    "    # they can be added,\n",
    "    # like this\n",
    "    def inner1(*args, **kwargs):\n",
    "\n",
    "        # store time before function exection\n",
    "        begin = time.time()\n",
    "\n",
    "        func(*args, **kwargs)\n",
    "\n",
    "        # store time after function execution\n",
    "        end = time.time()\n",
    "        print(f' -- executed \\'{func.__name__}\\' in {round((end - begin) * 1e6,2)} ms')\n",
    "\n",
    "    return inner1"
   ]
  },
  {
   "cell_type": "code",
   "execution_count": 15,
   "id": "bed8076a-f5fd-4875-8f9d-ae2c3ec05350",
   "metadata": {},
   "outputs": [],
   "source": [
    "# Decorator to test any function against an expected result\n",
    "# Test any function against an expected result\n",
    "@calculate_time_taken\n",
    "def test_result(func, result):\n",
    "    if func == result:\n",
    "        return print(f'True : [{func} = {result}]', end=\"\")\n",
    "    else:\n",
    "        return print(f'False : [{func} <> {result}]', end=\"\")"
   ]
  },
  {
   "cell_type": "code",
   "execution_count": 16,
   "id": "c5d98dec-9254-4aef-9214-7452502f2cfd",
   "metadata": {},
   "outputs": [
    {
     "name": "stdout",
     "output_type": "stream",
     "text": [
      "True : [ktten = ktten] -- executed 'test_result' in 0.0 ms\n",
      "True : [ktten = ktten] -- executed 'test_result' in 0.0 ms\n",
      "True : [itten = itten] -- executed 'test_result' in 0.0 ms\n",
      "True : [kittn = kittn] -- executed 'test_result' in 0.0 ms\n"
     ]
    }
   ],
   "source": [
    "#test_result( missing_char( string, index for char to remove ), expected answer )\n",
    "test_result(missing_char('kitten', 1), 'ktten')\n",
    "test_result(missing_char('kitten', 1), 'ktten')\n",
    "test_result(missing_char('kitten', 0), 'itten')\n",
    "test_result(missing_char('kitten', 4), 'kittn')"
   ]
  }
 ],
 "metadata": {
  "kernelspec": {
   "display_name": "Python 3 (ipykernel)",
   "language": "python",
   "name": "python3"
  },
  "language_info": {
   "codemirror_mode": {
    "name": "ipython",
    "version": 3
   },
   "file_extension": ".py",
   "mimetype": "text/x-python",
   "name": "python",
   "nbconvert_exporter": "python",
   "pygments_lexer": "ipython3",
   "version": "3.9.13"
  }
 },
 "nbformat": 4,
 "nbformat_minor": 5
}
