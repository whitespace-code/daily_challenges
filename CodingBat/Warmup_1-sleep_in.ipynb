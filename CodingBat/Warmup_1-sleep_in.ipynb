{
 "cells": [
  {
   "cell_type": "markdown",
   "id": "34e1f293-f174-4b54-be23-0f7e17b9915b",
   "metadata": {},
   "source": [
    "<div align=\"center\"><!logo and information about the code>\n",
    "    <h1><font color=\"blue\">CodingBat</font></h1>    \n",
    "    <img src=\"../images/logo.png\"><br/>\n",
    "    <img src=https://img.shields.io/badge/Language-Python-green?logo=python&logoColor=white> &emsp;\n",
    "    <img src=https://img.shields.io/badge/Version-1.0.0-blue>\n",
    "    <img src=https://img.shields.io/badge/License-MIT-blue> &emsp;\n",
    "    <img src=https://img.shields.io/badge/Status-completed-green>\n",
    "    <hr/>\n",
    "</div>    "
   ]
  },
  {
   "cell_type": "markdown",
   "id": "4b94f10a-3c6a-479f-a077-db8529a39470",
   "metadata": {},
   "source": [
    "### Instructions\n",
    "#### Stage\n",
    ">Warmup-1\n",
    "#### Problem\n",
    ">monkey_trouble\n",
    "\n",
    "    The parameter weekday is True if it is a weekday, and the parameter vacation is True if we are on\n",
    "    vacation. We sleep in if it is not a weekday or we're on vacation. Return True if we sleep in.\n",
    "\n",
    "```\n",
    "sleep_in(False, False) → True\n",
    "\n",
    "sleep_in(True, False) → False\n",
    "\n",
    "sleep_in(False, True) → True\n",
    "```\n",
    "___"
   ]
  },
  {
   "cell_type": "code",
   "execution_count": 13,
   "id": "7d10643e-2e8a-4759-b4b5-1b474d4fe5a9",
   "metadata": {},
   "outputs": [],
   "source": [
    "def sleep_in(weekday, vacation):\n",
    "    if weekday == False or vacation == True :\n",
    "        return True\n",
    "    else:\n",
    "        return False"
   ]
  },
  {
   "cell_type": "code",
   "execution_count": 13,
   "id": "c5d98dec-9254-4aef-9214-7452502f2cfd",
   "metadata": {},
   "outputs": [],
   "source": [
    "def test_func(func) :\n",
    "    print('weekend, vacation')\n",
    "    print('False, False (weekend)\\t\\t=', func(False, False) ) # test for weekend\n",
    "    print('True, False  (weekday)\\t\\t=', func(True, False) ) # test for weekday\n",
    "    print('False, True  (weekend vacation)\\t=', func(False, True) ) # test for vacation on weekend\n",
    "    print('True, True   (weekday vacation)\\t=', func(True, True) ) # test for vacation on weekday"
   ]
  },
  {
   "cell_type": "code",
   "execution_count": 14,
   "id": "ec680f47-c3fa-45e4-92a9-b9dd0223a93c",
   "metadata": {},
   "outputs": [
    {
     "name": "stdout",
     "output_type": "stream",
     "text": [
      "weekend, vacation\n",
      "False, False (weekend)\t\t= True\n",
      "True, False  (weekday)\t\t= False\n",
      "False, True  (weekend vacation)\t= True\n",
      "True, True   (weekday vacation)\t= True\n"
     ]
    }
   ],
   "source": [
    "test_bool_func(sleep_in)"
   ]
  }
 ],
 "metadata": {
  "kernelspec": {
   "display_name": "Python 3 (ipykernel)",
   "language": "python",
   "name": "python3"
  },
  "language_info": {
   "codemirror_mode": {
    "name": "ipython",
    "version": 3
   },
   "file_extension": ".py",
   "mimetype": "text/x-python",
   "name": "python",
   "nbconvert_exporter": "python",
   "pygments_lexer": "ipython3",
   "version": "3.9.13"
  }
 },
 "nbformat": 4,
 "nbformat_minor": 5
}
