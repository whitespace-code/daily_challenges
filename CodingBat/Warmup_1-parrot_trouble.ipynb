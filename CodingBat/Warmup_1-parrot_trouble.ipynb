{
 "cells": [
  {
   "cell_type": "markdown",
   "id": "34e1f293-f174-4b54-be23-0f7e17b9915b",
   "metadata": {},
   "source": [
    "<div align=\"center\"><!logo and information about the code>\n",
    "    <a href=\"https://codingbat.com/python\">\n",
    "        <h1><font color=\"blue\">CodingBat</font></h1>\n",
    "    </a>\n",
    "<!Logo>\n",
    "    <img src=\"../images/logo.png\">\n",
    "    <br/>\n",
    "<!Language and Code info>\n",
    "    <img src=https://img.shields.io/badge/Language-Python-green?logo=python&logoColor=white\n",
    "         alt=\"Language - Python\">\n",
    "    <img src=\"https://img.shields.io/github/license/whitespace-code/daily_challenges\"\n",
    "         alt=\"License\" >\n",
    "    <img src=https://img.shields.io/badge/Status-completed-green\n",
    "         alt=\"Status\">\n",
    "    <br/>\n",
    "<!Jupyter>\n",
    "    <img src=\"https://img.shields.io/badge/Powered%20by%20Jupyter-blue?logo=jupyter&logoColor=F37626&label=&labelColor=4D4D4D&style=for-the-badge&color=F37626\">\n",
    "    <hr/>\n",
    "</div>    "
   ]
  },
  {
   "cell_type": "markdown",
   "id": "4b94f10a-3c6a-479f-a077-db8529a39470",
   "metadata": {},
   "source": [
    "### Instructions\n",
    "#### Stage:\n",
    ">Warmup-1\n",
    "#### Problem:\n",
    ">parrot_trouble\n",
    "<div style=\"background-color: #D3D3D3 ; padding: 10px; border: 1px solid #9E9E9E ;\">\n",
    "    We have a loud talking parrot. The \"hour\" parameter is the current hour time in the range 0..23. We are in trouble if the parrot is talking and the hour is before 7 or after 20. <br/>\n",
    "    Return <b>True</b> if we are in trouble.\n",
    "</div>\n",
    "\n",
    "```\n",
    "parrot_trouble(True, 6) → True\n",
    "\n",
    "parrot_trouble(True, 7) → False\n",
    "\n",
    "parrot_trouble(False, 6) → False\n",
    "```\n",
    "___"
   ]
  },
  {
   "cell_type": "code",
   "execution_count": 22,
   "id": "7d10643e-2e8a-4759-b4b5-1b474d4fe5a9",
   "metadata": {},
   "outputs": [],
   "source": [
    "def parrot_trouble(talking, hour):\n",
    "    if talking == True and (hour < 7 or hour > 20):\n",
    "        return True\n",
    "    else:\n",
    "        return False"
   ]
  },
  {
   "cell_type": "code",
   "execution_count": 23,
   "id": "c5d98dec-9254-4aef-9214-7452502f2cfd",
   "metadata": {},
   "outputs": [],
   "source": [
    "def test_func(func) :\n",
    "    assert parrot_trouble(True, 6) == True\n",
    "    assert parrot_trouble(True, 7) == False\n",
    "    assert parrot_trouble(False, 6) == False\n",
    "    \n",
    "    return print('You are done for today')"
   ]
  },
  {
   "cell_type": "code",
   "execution_count": 24,
   "id": "ec680f47-c3fa-45e4-92a9-b9dd0223a93c",
   "metadata": {},
   "outputs": [
    {
     "name": "stdout",
     "output_type": "stream",
     "text": [
      "You are done for today\n"
     ]
    }
   ],
   "source": [
    "test_func(sum_double)"
   ]
  }
 ],
 "metadata": {
  "kernelspec": {
   "display_name": "Python 3 (ipykernel)",
   "language": "python",
   "name": "python3"
  },
  "language_info": {
   "codemirror_mode": {
    "name": "ipython",
    "version": 3
   },
   "file_extension": ".py",
   "mimetype": "text/x-python",
   "name": "python",
   "nbconvert_exporter": "python",
   "pygments_lexer": "ipython3",
   "version": "3.9.13"
  }
 },
 "nbformat": 4,
 "nbformat_minor": 5
}
