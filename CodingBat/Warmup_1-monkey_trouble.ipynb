{
 "cells": [
  {
   "cell_type": "markdown",
   "id": "34e1f293-f174-4b54-be23-0f7e17b9915b",
   "metadata": {},
   "source": [
    "<div align=\"center\"><!logo and information about the code>\n",
    "    <h1><font color=\"blue\">CodingBat</font></h1>    \n",
    "    <img src=\"../images/logo.png\"><br/>\n",
    "    <img src=https://img.shields.io/badge/Language-Python-green?logo=python&logoColor=white> &emsp;\n",
    "    <img src=https://img.shields.io/badge/Version-1.0.0-blue>\n",
    "    <img src=https://img.shields.io/badge/License-MIT-blue> &emsp;\n",
    "    <img src=https://img.shields.io/badge/Status-completed-green>\n",
    "    <hr/>\n",
    "</div>    "
   ]
  },
  {
   "cell_type": "markdown",
   "id": "4b94f10a-3c6a-479f-a077-db8529a39470",
   "metadata": {},
   "source": [
    "### Instructions\n",
    "#### Stage\n",
    ">Warmup-1\n",
    "#### Problem\n",
    ">monkey_trouble\n",
    "\n",
    "    We have two monkeys, a and b, and the parameters a_smile and b_smile indicate if each is smiling. \n",
    "    We are in trouble if they are both smiling or if neither of them is smiling. Return True if we are in trouble.\n",
    "\n",
    "```\n",
    "monkey_trouble(True, True) → True\n",
    "\n",
    "monkey_trouble(False, False) → True\n",
    "\n",
    "monkey_trouble(True, False) → False\n",
    "```\n",
    "___"
   ]
  },
  {
   "cell_type": "code",
   "execution_count": 24,
   "id": "7d10643e-2e8a-4759-b4b5-1b474d4fe5a9",
   "metadata": {},
   "outputs": [],
   "source": [
    "def monkey_trouble(a_smile, b_smile):\n",
    "    if (not a_smile and not b_smile) or (a_smile and b_smile) :\n",
    "        return True\n",
    "    else:\n",
    "        return False"
   ]
  },
  {
   "cell_type": "code",
   "execution_count": 30,
   "id": "c5d98dec-9254-4aef-9214-7452502f2cfd",
   "metadata": {},
   "outputs": [],
   "source": [
    "def test_func(func) :\n",
    "    assert func(True, True) == True\n",
    "    assert func(False, False) == True\n",
    "    assert func(True, False) == False\n",
    "    assert func(False, True) == False\n",
    "    \n",
    "    return print('You are done for today')"
   ]
  },
  {
   "cell_type": "code",
   "execution_count": 31,
   "id": "ec680f47-c3fa-45e4-92a9-b9dd0223a93c",
   "metadata": {},
   "outputs": [
    {
     "name": "stdout",
     "output_type": "stream",
     "text": [
      "You are done for today\n"
     ]
    }
   ],
   "source": [
    "test_func(monkey_trouble)"
   ]
  }
 ],
 "metadata": {
  "kernelspec": {
   "display_name": "Python 3 (ipykernel)",
   "language": "python",
   "name": "python3"
  },
  "language_info": {
   "codemirror_mode": {
    "name": "ipython",
    "version": 3
   },
   "file_extension": ".py",
   "mimetype": "text/x-python",
   "name": "python",
   "nbconvert_exporter": "python",
   "pygments_lexer": "ipython3",
   "version": "3.9.13"
  }
 },
 "nbformat": 4,
 "nbformat_minor": 5
}
