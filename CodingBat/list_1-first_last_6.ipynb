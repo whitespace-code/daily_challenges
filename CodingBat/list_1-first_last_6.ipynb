{
 "cells": [
  {
   "cell_type": "markdown",
   "id": "250aa66e-705d-4df3-ab7d-102624838bd6",
   "metadata": {},
   "source": [
    "<div align=\"center\"><!logo and information about the code>\n",
    "    <a href=\"https://codingbat.com/python\">\n",
    "        <h1><font color=\"blue\">CodingBat</font></h1>\n",
    "    </a>\n",
    "<!Logo>\n",
    "    <img src=\"../images/logo.png\">\n",
    "    <br/>\n",
    "<!Language and Code info>\n",
    "    <img src=https://img.shields.io/badge/Language-Python-green?logo=python&logoColor=white\n",
    "         alt=\"Language - Python\">\n",
    "    <img src=\"https://img.shields.io/github/license/whitespace-code/daily_challenges\"\n",
    "         alt=\"License\" >\n",
    "    <img src=https://img.shields.io/badge/Status-completed-green\n",
    "         alt=\"Status\">\n",
    "    <br/>\n",
    "<!Jupyter>\n",
    "    <img src=\"https://img.shields.io/badge/Powered%20by%20Jupyter-blue?logo=jupyter&logoColor=F37626&label=&labelColor=4D4D4D&style=for-the-badge&color=F37626\">\n",
    "    <hr/>\n",
    "    <img src=https://img.shields.io/badge/Updated-2023.02.22-blue\n",
    "         alt=\"Updated\">\n",
    "</div>    "
   ]
  },
  {
   "cell_type": "markdown",
   "id": "d4504394-ca42-42df-880c-76af192c6e44",
   "metadata": {
    "tags": []
   },
   "source": [
    "## Problem\n",
    "#### Stage:\n",
    ">List-1\n",
    "#### Problem:\n",
    ">first_last6\n",
    "<div style=\"background-color: #D3D3D3 ; padding: 10px; border: 1px solid #9E9E9E ;\">\n",
    "    Given an array of ints, return True if 6 appears as either the first or last element in the array. The array will be length 1 or more.\n",
    "</div>\n",
    "\n",
    "```\n",
    "first_last6([1, 2, 6]) → True\n",
    "first_last6([6, 1, 2, 3]) → True\n",
    "first_last6([13, 6, 1, 2, 3]) → False\n",
    "```\n",
    "___"
   ]
  },
  {
   "cell_type": "markdown",
   "id": "9817a497-93eb-4e99-88fb-bd85ee26cd07",
   "metadata": {},
   "source": [
    "## Solution"
   ]
  },
  {
   "cell_type": "code",
   "execution_count": 4,
   "id": "15004594-c83f-4dca-ae11-4aeb0e250168",
   "metadata": {},
   "outputs": [],
   "source": [
    "def first_last6(nums):\n",
    "    return nums[0] == 6 or nums[len(nums) - 1] == 6"
   ]
  },
  {
   "cell_type": "markdown",
   "id": "38ea0abb-d32d-44f9-9ce2-b1a139f4661c",
   "metadata": {},
   "source": [
    "## Test"
   ]
  },
  {
   "cell_type": "code",
   "execution_count": 53,
   "id": "e55bc05c-3329-440d-99f3-aad351e0d820",
   "metadata": {},
   "outputs": [
    {
     "name": "stdout",
     "output_type": "stream",
     "text": [
      "True : [True = True] -- executed 'test_result' in 0.0 ms\n",
      "True : [True = True] -- executed 'test_result' in 0.0 ms\n",
      "True : [False = False] -- executed 'test_result' in 0.0 ms\n",
      "True : [False = False] -- executed 'test_result' in 0.0 ms\n",
      "True : [False = False] -- executed 'test_result' in 0.0 ms\n",
      "True : [False = False] -- executed 'test_result' in 0.0 ms\n"
     ]
    }
   ],
   "source": [
    "from test_subs import test_result\n",
    "\n",
    "test_result(first_last6([1, 2, 6]), True)\n",
    "test_result(first_last6([6, 1, 2, 3]), True)\n",
    "test_result(first_last6([13, 6, 1, 2, 3]), False)\n",
    "test_result(first_last6([1, 2, 3]), False)\n",
    "test_result(first_last6([100, 99, 56, 60, 60]), False)\n",
    "test_result(first_last6([66, 1, 2, 126]), False)"
   ]
  }
 ],
 "metadata": {
  "kernelspec": {
   "display_name": "Python 3 (ipykernel)",
   "language": "python",
   "name": "python3"
  },
  "language_info": {
   "codemirror_mode": {
    "name": "ipython",
    "version": 3
   },
   "file_extension": ".py",
   "mimetype": "text/x-python",
   "name": "python",
   "nbconvert_exporter": "python",
   "pygments_lexer": "ipython3",
   "version": "3.9.13"
  }
 },
 "nbformat": 4,
 "nbformat_minor": 5
}
