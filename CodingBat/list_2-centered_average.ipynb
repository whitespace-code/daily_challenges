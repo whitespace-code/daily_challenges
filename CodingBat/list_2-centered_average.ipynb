{
 "cells": [
  {
   "cell_type": "markdown",
   "id": "09037861-bfcd-4bc2-89c7-062f6bd36120",
   "metadata": {},
   "source": [
    "<div align=\"center\">\n",
    "    <a href=\"https://codingbat.com/python\">\n",
    "        <h1><font color=\"blue\">CodingBat</font></h1>\n",
    "    </a>\n",
    "    <img src=\"../images/logo.png\">\n",
    "    <br/>\n",
    "    <img src=https://img.shields.io/badge/Language-Python-green?logo=python&logoColor=white\n",
    "         alt=\"Language - Python\">\n",
    "    <img src=\"https://img.shields.io/github/license/whitespace-code/daily_challenges\"\n",
    "         alt=\"License\" >\n",
    "    <img src=\"https://img.shields.io/badge/Status-completed-green\"\n",
    "         alt=\"Status\">\n",
    "    <br/>\n",
    "    <img src=\"https://img.shields.io/badge/Powered%20by%20Jupyter-blue?logo=jupyter&logoColor=F37626&label=&labelColor=4D4D4D&style=for-the-badge&color=F37626\">\n",
    "    <hr/>\n",
    "    <img src=\"https://img.shields.io/badge/Updated-2023.02.24-blue\"\n",
    "         alt=\"Updated\">\n",
    "</div>    "
   ]
  },
  {
   "cell_type": "markdown",
   "id": "c21398d7-55c6-4138-a905-66a3c92caaa5",
   "metadata": {
    "tags": []
   },
   "source": [
    "## Problem\n",
    "#### Stage:\n",
    ">list_2\n",
    "#### Problem:\n",
    ">centered_average\n",
    "<div style=\"background-color: #D3D3D3 ; padding: 10px; border: 1px solid #9E9E9E ;\">\n",
    "    Return the \"centered\" average of an array of ints, which we'll say is the mean average of the values, except ignoring the largest and smallest values in the array. If there are multiple copies of the smallest value, ignore just one copy, and likewise for the largest value. Use int division to produce the final average. You may assume that the array is length 3 or more.\n",
    "</div>\n",
    "\n",
    "```\n",
    "centered_average([1, 2, 3, 4, 100]) → 3\n",
    "centered_average([1, 1, 5, 5, 10, 8, 7]) → 5\n",
    "centered_average([-10, -4, -2, -4, -2, 0]) → -3\n",
    "```\n",
    "___"
   ]
  },
  {
   "cell_type": "markdown",
   "id": "3d654734-bd76-46aa-a483-92e28d936a84",
   "metadata": {},
   "source": [
    "## Solution"
   ]
  },
  {
   "cell_type": "code",
   "execution_count": 2,
   "id": "51fed094-96ff-4bb9-94e9-edbb5be1f776",
   "metadata": {},
   "outputs": [],
   "source": [
    "def centered_average(nums):\n",
    "    max_num = max(nums)\n",
    "    min_num = min(nums)\n",
    "    sum_num = sum(nums)\n",
    "    return (sum_num - min_num - max_num) // (len(nums) - 2)"
   ]
  },
  {
   "cell_type": "markdown",
   "id": "0e6e4566-f562-41b7-897d-ffb630ba9a48",
   "metadata": {},
   "source": [
    "## Testing"
   ]
  },
  {
   "cell_type": "code",
   "execution_count": 8,
   "id": "fa9a128e-8fdc-4d05-b80f-0cbb4cfe2be3",
   "metadata": {},
   "outputs": [
    {
     "name": "stdout",
     "output_type": "stream",
     "text": [
      "True : [3 = 3] -- executed 'test_result' in 0.0 ms\n",
      "True : [5 = 5] -- executed 'test_result' in 0.0 ms\n",
      "True : [-3 = -3] -- executed 'test_result' in 0.0 ms\n",
      "True : [4 = 4] -- executed 'test_result' in 0.0 ms\n",
      "True : [1 = 1] -- executed 'test_result' in 0.0 ms\n",
      "True : [7 = 7] -- executed 'test_result' in 0.0 ms\n",
      "True : [50 = 50] -- executed 'test_result' in 0.0 ms\n"
     ]
    }
   ],
   "source": [
    "from test_subs import test_result\n",
    "\n",
    "test_result(centered_average([1, 2, 3, 4, 100]), 3)\n",
    "test_result(centered_average([1, 1, 5, 5, 10, 8, 7]), 5)\n",
    "test_result(centered_average([-10, -4, -2, -4, -2, 0]), -3)\n",
    "test_result(centered_average([5, 3, 4, 6, 2]), 4)\n",
    "test_result(centered_average([1, 1, 100]), 1)\n",
    "test_result(centered_average([7, 7, 7]), 7)\n",
    "test_result(centered_average([1, 1, 99, 99]), 50)"
   ]
  }
 ],
 "metadata": {
  "kernelspec": {
   "display_name": "Python 3 (ipykernel)",
   "language": "python",
   "name": "python3"
  },
  "language_info": {
   "codemirror_mode": {
    "name": "ipython",
    "version": 3
   },
   "file_extension": ".py",
   "mimetype": "text/x-python",
   "name": "python",
   "nbconvert_exporter": "python",
   "pygments_lexer": "ipython3",
   "version": "3.9.13"
  }
 },
 "nbformat": 4,
 "nbformat_minor": 5
}
