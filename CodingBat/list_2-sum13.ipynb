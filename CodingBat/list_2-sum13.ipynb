{
 "cells": [
  {
   "cell_type": "markdown",
   "id": "09037861-bfcd-4bc2-89c7-062f6bd36120",
   "metadata": {},
   "source": [
    "<div align=\"center\">\n",
    "    <a href=\"https://codingbat.com/python\">\n",
    "        <h1><font color=\"blue\">CodingBat</font></h1>\n",
    "    </a>\n",
    "    <img src=\"../images/logo.png\">\n",
    "    <br/>\n",
    "    <img src=https://img.shields.io/badge/Language-Python-green?logo=python&logoColor=white\n",
    "         alt=\"Language - Python\">\n",
    "    <img src=\"https://img.shields.io/github/license/whitespace-code/daily_challenges\"\n",
    "         alt=\"License\" >\n",
    "    <img src=https://img.shields.io/badge/Status-completed-green\n",
    "         alt=\"Status\">\n",
    "    <br/>\n",
    "    <img src=\"https://img.shields.io/badge/Powered%20by%20Jupyter-blue?logo=jupyter&logoColor=F37626&label=&labelColor=4D4D4D&style=for-the-badge&color=F37626\">\n",
    "    <hr/>\n",
    "    <img src=https://img.shields.io/badge/Updated-2023.02.24-blue\n",
    "         alt=\"Updated\">\n",
    "</div>    "
   ]
  },
  {
   "cell_type": "markdown",
   "id": "c21398d7-55c6-4138-a905-66a3c92caaa5",
   "metadata": {
    "tags": []
   },
   "source": [
    "## Problem\n",
    "#### Stage:\n",
    ">list_2\n",
    "#### Problem:\n",
    ">sum13\n",
    "<div style=\"background-color: #D3D3D3 ; padding: 10px; border: 1px solid #9E9E9E ;\">\n",
    "    Return the sum of the numbers in the array, returning 0 for an empty array. Except the number 13 is very unlucky, so it does not count and numbers that come immediately after a 13 also do not count.\n",
    "</div>\n",
    "\n",
    "```\n",
    "sum13([1, 2, 2, 1]) → 6\n",
    "sum13([1, 1]) → 2\n",
    "sum13([1, 2, 2, 1, 13]) → 6\n",
    "```\n",
    "___"
   ]
  },
  {
   "cell_type": "markdown",
   "id": "3d654734-bd76-46aa-a483-92e28d936a84",
   "metadata": {},
   "source": [
    "## Solution"
   ]
  },
  {
   "cell_type": "code",
   "execution_count": 2,
   "id": "51fed094-96ff-4bb9-94e9-edbb5be1f776",
   "metadata": {},
   "outputs": [],
   "source": [
    "def sum13(nums):\n",
    "    #declare local variables\n",
    "    _sum13 = 0\n",
    "    element = 0\n",
    "\n",
    "    if nums == []:\n",
    "        return 0\n",
    "    else:\n",
    "        while element <= len(nums) - 1:\n",
    "            if nums[element] == 13:\n",
    "                element += 2\n",
    "                pass\n",
    "            else:\n",
    "                _sum13 += nums[element]\n",
    "                element += 1\n",
    "        return _sum13"
   ]
  },
  {
   "cell_type": "markdown",
   "id": "0e6e4566-f562-41b7-897d-ffb630ba9a48",
   "metadata": {},
   "source": [
    "## Testing"
   ]
  },
  {
   "cell_type": "code",
   "execution_count": 7,
   "id": "fa9a128e-8fdc-4d05-b80f-0cbb4cfe2be3",
   "metadata": {},
   "outputs": [
    {
     "name": "stdout",
     "output_type": "stream",
     "text": [
      "True : [6 = 6] -- executed 'test_result' in 1002.79 ms\n",
      "True : [2 = 2] -- executed 'test_result' in 0.0 ms\n",
      "True : [6 = 6] -- executed 'test_result' in 0.0 ms\n",
      "True : [0 = 0] -- executed 'test_result' in 0.0 ms\n",
      "True : [0 = 0] -- executed 'test_result' in 0.0 ms\n",
      "True : [3 = 3] -- executed 'test_result' in 0.0 ms\n"
     ]
    }
   ],
   "source": [
    "from test_subs import test_result\n",
    "\n",
    "# define test array\n",
    "test_points = [\n",
    "    ([1, 2, 2, 1], 6),\n",
    "    ([1, 1], 2),\n",
    "    ([1, 2, 2, 1, 13], 6),\n",
    "    ([13,13], 0),\n",
    "    ([], 0),\n",
    "    ([13, 1, 2, 13, 2, 1, 13], 3)\n",
    "]\n",
    "\n",
    "for test in test_points:\n",
    "    test_result(sum13(test[0]), test[1])"
   ]
  }
 ],
 "metadata": {
  "kernelspec": {
   "display_name": "Python 3 (ipykernel)",
   "language": "python",
   "name": "python3"
  },
  "language_info": {
   "codemirror_mode": {
    "name": "ipython",
    "version": 3
   },
   "file_extension": ".py",
   "mimetype": "text/x-python",
   "name": "python",
   "nbconvert_exporter": "python",
   "pygments_lexer": "ipython3",
   "version": "3.9.13"
  }
 },
 "nbformat": 4,
 "nbformat_minor": 5
}
