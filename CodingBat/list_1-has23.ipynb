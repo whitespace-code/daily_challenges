{
 "cells": [
  {
   "cell_type": "markdown",
   "id": "b99bab97-099e-4f31-88fe-93a9e9b5a84f",
   "metadata": {},
   "source": [
    "<div align=\"center\"><!logo and information about the code>\n",
    "    <a href=\"https://codingbat.com/python\">\n",
    "        <h1><font color=\"blue\">CodingBat</font></h1>\n",
    "    </a>\n",
    "<!Logo>\n",
    "    <img src=\"../images/logo.png\">\n",
    "    <br/>\n",
    "<!Language and Code info>\n",
    "    <img src=https://img.shields.io/badge/Language-Python-green?logo=python&logoColor=white\n",
    "         alt=\"Language - Python\">\n",
    "    <img src=\"https://img.shields.io/github/license/whitespace-code/daily_challenges\"\n",
    "         alt=\"License\" >\n",
    "    <img src=https://img.shields.io/badge/Status-completed-green\n",
    "         alt=\"Status\">\n",
    "    <br/>\n",
    "<!Jupyter>\n",
    "    <img src=\"https://img.shields.io/badge/Powered%20by%20Jupyter-blue?logo=jupyter&logoColor=F37626&label=&labelColor=4D4D4D&style=for-the-badge&color=F37626\">\n",
    "    <hr/>\n",
    "    <img src=https://img.shields.io/badge/Updated-2023.02.24-blue\n",
    "         alt=\"Updated\">\n",
    "</div>    "
   ]
  },
  {
   "cell_type": "markdown",
   "id": "08029e8c-b2f7-4349-9156-8a286bf23ff9",
   "metadata": {
    "tags": []
   },
   "source": [
    "## Problem\n",
    "#### Stage:\n",
    ">List-1\n",
    "#### Problem:\n",
    ">has23\n",
    "<div style=\"background-color: #D3D3D3 ; padding: 10px; border: 1px solid #9E9E9E ;\">\n",
    "    Given an int array length 2, return True if it contains a 2 or a 3.\n",
    "</div>\n",
    "\n",
    "```\n",
    "has23([2, 5]) → True\n",
    "has23([4, 3]) → True\n",
    "has23([4, 5]) → False\n",
    "```\n",
    "___"
   ]
  },
  {
   "cell_type": "markdown",
   "id": "112fd1f2-cc26-4708-aa0c-1d6448f5759c",
   "metadata": {},
   "source": [
    "## Solution"
   ]
  },
  {
   "cell_type": "code",
   "execution_count": 2,
   "id": "3d15802e-37f8-49ac-bd0e-ca409d802029",
   "metadata": {},
   "outputs": [],
   "source": [
    "def has23(nums):\n",
    "  return nums.count(2) > 0 or nums.count(3) > 0"
   ]
  },
  {
   "cell_type": "markdown",
   "id": "5953c629-eb1d-4c9e-902b-72445ada4924",
   "metadata": {},
   "source": [
    "## Testing"
   ]
  },
  {
   "cell_type": "code",
   "execution_count": 3,
   "id": "b293b731-55c6-4695-9899-aba13d97c711",
   "metadata": {},
   "outputs": [
    {
     "name": "stdout",
     "output_type": "stream",
     "text": [
      "True : [True = True] -- executed 'test_result' in 0.0 ms\n",
      "True : [True = True] -- executed 'test_result' in 0.0 ms\n",
      "True : [True = True] -- executed 'test_result' in 0.0 ms\n",
      "False : [False <> True] -- executed 'test_result' in 0.0 ms\n"
     ]
    }
   ],
   "source": [
    "from test_subs import test_result\n",
    "\n",
    "test_result(has23([2, 5]), True)\n",
    "test_result(has23([4, 3]), True)\n",
    "test_result(has23([2, 3]), True)\n",
    "test_result(has23([4, 5]), True)"
   ]
  }
 ],
 "metadata": {
  "kernelspec": {
   "display_name": "Python 3 (ipykernel)",
   "language": "python",
   "name": "python3"
  },
  "language_info": {
   "codemirror_mode": {
    "name": "ipython",
    "version": 3
   },
   "file_extension": ".py",
   "mimetype": "text/x-python",
   "name": "python",
   "nbconvert_exporter": "python",
   "pygments_lexer": "ipython3",
   "version": "3.9.13"
  }
 },
 "nbformat": 4,
 "nbformat_minor": 5
}
