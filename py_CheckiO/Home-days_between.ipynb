{
 "cells": [
  {
   "cell_type": "markdown",
   "id": "09037861-bfcd-4bc2-89c7-062f6bd36120",
   "metadata": {},
   "source": [
    "<div align=\"center\">\n",
    "    <a href=\"https://py.checkio.org/\">\n",
    "        <h1><font color=\"blue\">py.CheckiO</font></h1>\n",
    "    </a>\n",
    "    <img src=\"../images/logo.png\">\n",
    "    <br/>\n",
    "    <img src=https://img.shields.io/badge/Language-Python-green?logo=python&logoColor=white\n",
    "         alt=\"Language - Python\">\n",
    "    <img src=\"https://img.shields.io/github/license/whitespace-code/daily_challenges\"\n",
    "         alt=\"License\" >\n",
    "    <img src=https://img.shields.io/badge/Status-completed-green\n",
    "         alt=\"Status\">\n",
    "    <br/>\n",
    "    <img src=\"https://img.shields.io/badge/Powered%20by%20Jupyter-blue?logo=jupyter&logoColor=F37626&label=&labelColor=4D4D4D&style=for-the-badge&color=F37626\">\n",
    "    <hr/>\n",
    "    <img src=https://img.shields.io/badge/Updated-2023.03.20-blue\n",
    "         alt=\"Updated\">\n",
    "</div>    "
   ]
  },
  {
   "cell_type": "markdown",
   "id": "c21398d7-55c6-4138-a905-66a3c92caaa5",
   "metadata": {
    "tags": []
   },
   "source": [
    "## Problem\n",
    "#### Stage:\n",
    ">Home\n",
    "#### Problem:\n",
    ">days_diff\n",
    "<div style=\"background-color: #D3D3D3 ; padding: 10px; border: 1px solid #9E9E9E ;\">\n",
    "How old are you in a number of days? It's easy to calculate - just subtract your birthday from today. We could make this a real challenge though and count the difference between any dates.\n",
    "\n",
    "You are given two dates as an tuple with three numbers - a year, month and day. For example: 19 April 1982 will be (1982, 4, 19). You should find the difference in days between the given dates. For example between today and tomorrow = 1 day. The difference will always be either a positive number or zero, so don't forget about the absolute value.\n",
    "    \n",
    "    Input: Two dates as tuples of integers.\n",
    "    Output: The difference between the dates in days as an integer.\n",
    "\n",
    "<b>Precondition</b>:\n",
    "* dates between 1 january 1 and 31 december 9999;\n",
    "* dates are correct.\n",
    "</div>\n",
    "\n",
    "___"
   ]
  },
  {
   "cell_type": "markdown",
   "id": "3d654734-bd76-46aa-a483-92e28d936a84",
   "metadata": {},
   "source": [
    "## Solution"
   ]
  },
  {
   "cell_type": "code",
   "execution_count": 103,
   "id": "51fed094-96ff-4bb9-94e9-edbb5be1f776",
   "metadata": {},
   "outputs": [
    {
     "name": "stdout",
     "output_type": "stream",
     "text": [
      "Example:\n"
     ]
    },
    {
     "data": {
      "text/plain": [
       "367"
      ]
     },
     "execution_count": 103,
     "metadata": {},
     "output_type": "execute_result"
    }
   ],
   "source": [
    "def days_diff(start_date, end_date):\n",
    "    '''Simple function to calculate the difference between two dates\n",
    "    variables\n",
    "        start_date: tuple of 3 integers\n",
    "        end_date: tuple of 3 integers\n",
    "\n",
    "    where:\n",
    "        (year, month, day)\n",
    "\n",
    "    output: integer\n",
    "    '''\n",
    "    year_s, month_s, day_s = start_date\n",
    "    year_e, month_e, day_e = end_date\n",
    "\n",
    "    if month_e < month_s:\n",
    "        month_e, month_s = month_s, month_e\n",
    "    if year_e < year_s:\n",
    "        year_e, year_s = year_s, year_e\n",
    "\n",
    "    days = abs(day_e - day_s)\n",
    "#    print(days)\n",
    "\n",
    "    for month in range(month_s, month_e):\n",
    "        if month == 2:\n",
    "            days += 28\n",
    "        elif month < 8:\n",
    "            if month%2 == 0 and month !=2:\n",
    "                days += 30\n",
    "            else:\n",
    "                days += 31\n",
    "        elif month > 7:\n",
    "            if month%2 == 0:\n",
    "                days += 31\n",
    "            else:\n",
    "                days += 30\n",
    "\n",
    "    for year in range(year_s,year_e):\n",
    "        if year%4 == 0 and year%100 != 0:\n",
    "            days += 366\n",
    "#            print('366')\n",
    "        elif year%4 == 0 and year%100 == 0 and year%400 == 0:\n",
    "            days += 366\n",
    "#            print('366')\n",
    "        else:\n",
    "            days += 365\n",
    "#            print('365')\n",
    "\n",
    "    return days\n",
    "\n",
    "print(\"Example:\")\n",
    "days_diff((2012, 2, 29), (2013, 2, 28))"
   ]
  },
  {
   "cell_type": "markdown",
   "id": "0e6e4566-f562-41b7-897d-ffb630ba9a48",
   "metadata": {},
   "source": [
    "## Testing"
   ]
  },
  {
   "cell_type": "code",
   "execution_count": 104,
   "id": "fa9a128e-8fdc-4d05-b80f-0cbb4cfe2be3",
   "metadata": {},
   "outputs": [
    {
     "name": "stdout",
     "output_type": "stream",
     "text": [
      "True:\n",
      " [\u001b[034m3 == 3\u001b[0m]\n",
      "\t-- executed 'test_result' in 0.0 ns\n",
      "True:\n",
      " [\u001b[034m238 == 238\u001b[0m]\n",
      "\t-- executed 'test_result' in 0.0 ns\n",
      "True:\n",
      " [\u001b[034m238 == 238\u001b[0m]\n",
      "\t-- executed 'test_result' in 0.0 ns\n",
      "True:\n",
      " [\u001b[034m3652058 == 3652058\u001b[0m]\n",
      "\t-- executed 'test_result' in 0.0 ns\n",
      "True:\n",
      " [\u001b[034m364 == 364\u001b[0m]\n",
      "\t-- executed 'test_result' in 0.0 ns\n",
      "True:\n",
      " [\u001b[034m3652058 == 3652058\u001b[0m]\n",
      "\t-- executed 'test_result' in 0.0 ns\n",
      "False:\n",
      " [\u001b[031m732 <> 730\u001b[0m]\n",
      "\t-- executed 'test_result' in 0.0 ns\n"
     ]
    }
   ],
   "source": [
    "from test_subs import test_result\n",
    "\n",
    "test_result(days_diff((1982, 4, 19), (1982, 4, 22)), 3)\n",
    "test_result(days_diff((2014, 1, 1), (2014, 8, 27)), 238)\n",
    "test_result(days_diff((2014, 8, 27), (2014, 1, 1)), 238)\n",
    "test_result(days_diff((1, 1, 1), (9999, 12, 31)), 3652058)\n",
    "test_result(days_diff((1, 1, 1), (1, 12, 31)), 364)\n",
    "test_result(days_diff((9999, 12, 31), (1, 1, 1)), 3652058)\n",
    "test_result(days_diff((2012, 2, 29), (2014, 2, 28)), 730)"
   ]
  }
 ],
 "metadata": {
  "kernelspec": {
   "display_name": "Python 3 (ipykernel)",
   "language": "python",
   "name": "python3"
  },
  "language_info": {
   "codemirror_mode": {
    "name": "ipython",
    "version": 3
   },
   "file_extension": ".py",
   "mimetype": "text/x-python",
   "name": "python",
   "nbconvert_exporter": "python",
   "pygments_lexer": "ipython3",
   "version": "3.9.13"
  }
 },
 "nbformat": 4,
 "nbformat_minor": 5
}
