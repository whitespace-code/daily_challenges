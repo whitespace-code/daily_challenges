{
 "cells": [
  {
   "cell_type": "markdown",
   "id": "6f988796-52b9-4782-a7ae-7fe1a3f00f7e",
   "metadata": {
    "tags": []
   },
   "source": [
    "<div align=\"center\">\n",
    "    <a href=\"https://py.checkio.org/\">\n",
    "        <h1><font color=\"blue\">py.CheckiO</font></h1>\n",
    "    </a>\n",
    "    <img src=\"../images/logo.png\">\n",
    "    <br/>\n",
    "    <img src=https://img.shields.io/badge/Language-Python-green?logo=python&logoColor=white\n",
    "         alt=\"Language - Python\">\n",
    "    <img src=\"https://img.shields.io/github/license/whitespace-code/daily_challenges\"\n",
    "         alt=\"License\" >\n",
    "    <img src=https://img.shields.io/badge/Status-completed-green\n",
    "         alt=\"Status\">\n",
    "    <br/>\n",
    "    <img src=\"https://img.shields.io/badge/Powered%20by%20Jupyter-blue?logo=jupyter&logoColor=F37626&label=&labelColor=4D4D4D&style=for-the-badge&color=F37626\">\n",
    "    <hr/>\n",
    "    <img src=https://img.shields.io/badge/Updated-2023.06.18-blue\n",
    "         alt=\"Updated\"><br/>\n",
    "    <img src=https://img.shields.io/badge/Assistance-RECEIVED-yellow\n",
    "         alt=\"Updated\">\n",
    "</div>    "
   ]
  },
  {
   "cell_type": "markdown",
   "id": "fe38bd91-3147-4b7b-a8a3-f4bf8c5041af",
   "metadata": {
    "tags": []
   },
   "source": [
    "## Problem\n",
    "#### Stage:\n",
    ">Electronics Station\n",
    "#### Problem:\n",
    ">sort_by_extension\n",
    "<div style=\"background-color: #D3D3D3 ; padding: 10px; border: 1px solid #9E9E9E ;\">\n",
    "You are given a list of files. You need to sort this list by the file extension. The files with the same extension (or without one) should be sorted by name.\n",
    "\n",
    "Some possible cases:\n",
    "\n",
    "* Filename cannot be an empty string;\n",
    "* Sorting order: files without name, files without extension, files with name and extension;\n",
    "* Filename **config** or **config.** is all name with an empty extension;\n",
    "* Filename like **str1.str2.str3** has an extension **str3** and a name **str1.str2**;\n",
    "* Filename like **.str1.str2** has an extension **str2** and a name **.str1**.\n",
    "\n",
    "    <div style=\"background-color: #F2F3F5 ; padding: 1px; border: 1px solid #F2F3F5 ;\">\n",
    "    Input: List of strings.<br/>\n",
    "    Output: List of strings.\n",
    "    </div>\n",
    "\n",
    "<b>Precondition</b>: None <br/>\n",
    "</div>\n",
    "\n",
    "___"
   ]
  },
  {
   "cell_type": "markdown",
   "id": "a565341f-7ae9-46d5-aeaa-938a471f5866",
   "metadata": {},
   "source": [
    "## Solution\n",
    "\n",
    "**Notes:**<br/>\n",
    "After some light reading to achieve sorting with multiple criteria on one sort command, i've learn that it is best to pass a tuple with the criteria conditions, this ensures that the sort is perform in the order of the tuple. first condition then second and so on. These requires functions to be passed as the key so the tuple must comprise of multiple functions or lambda expressions"
   ]
  },
  {
   "cell_type": "code",
   "execution_count": 195,
   "id": "2a57e19a-8613-4eea-8479-7e3e201777be",
   "metadata": {},
   "outputs": [
    {
     "name": "stdout",
     "output_type": "stream",
     "text": [
      "True \n",
      " ['1.aa', '1.bat', '1.cad', '.aa.doc']\n"
     ]
    }
   ],
   "source": [
    "def sort_by_ext(files: list[str]) -> list[str]:\n",
    "    return sorted(files, key=sort_key)\n",
    "\n",
    "def sort_key(file) -> tuple[str, str]:\n",
    "    name, dot, ext = file.rpartition(\".\")\n",
    "    return ((\"\", ext),(ext, name))[bool(name)]\n",
    "\n",
    "# execute a single testpoint on the function\n",
    "print(\n",
    "    sort_by_ext([\"1.cad\", \"1.bat\", \"1.aa\", \".aa.doc\"]) == [\"1.aa\", \"1.bat\", \"1.cad\", \".aa.doc\"],\n",
    "    '\\n',\n",
    "    sort_by_ext([\"1.cad\", \"1.bat\", \"1.aa\", \".aa.doc\"])\n",
    ")"
   ]
  },
  {
   "cell_type": "markdown",
   "id": "d5e045c4-d08b-49f5-b1fa-d1af29d15b95",
   "metadata": {
    "jp-MarkdownHeadingCollapsed": true,
    "tags": []
   },
   "source": [
    "## Discarded solution"
   ]
  },
  {
   "cell_type": "markdown",
   "id": "687b1de5-dc20-4250-80e6-3b5ec5dc7ae2",
   "metadata": {
    "tags": []
   },
   "source": [
    "```\n",
    "def sort_by_ext(files: list[str]) -> list[str]:\n",
    "    # Define the sorting criteria to be used in the .sort() method\n",
    "    sorting_criteria = (\n",
    "        lambda f: not f.count('.'), # checks if the file has extension or not\n",
    "        lambda f: '' if f.startswith('.') else f.rsplit('.', 1)[1], # sort by extension\n",
    "        lambda f: f.rsplit('.', 1)[0], # then by name\n",
    "    )\n",
    "\n",
    "    # execute and sort besed on order in tuple\n",
    "    files.sort(key=lambda x: \n",
    "               (sorting_criteria[0](x),\n",
    "                sorting_criteria[1](x),\n",
    "                sorting_criteria[2](x),\n",
    "                x\n",
    "               ))\n",
    "    return files\n",
    "```\n",
    "\n",
    "This fails to sort if the file starts with a ."
   ]
  },
  {
   "cell_type": "markdown",
   "id": "cb9908e1-e873-4110-b504-671aa66ca1bb",
   "metadata": {
    "jp-MarkdownHeadingCollapsed": true,
    "tags": []
   },
   "source": [
    "## Implement the tests"
   ]
  },
  {
   "cell_type": "code",
   "execution_count": 24,
   "id": "1824be9f-b1ba-4b30-8ea5-916b35147651",
   "metadata": {},
   "outputs": [],
   "source": [
    "def test_solution():\n",
    "    from test_routines.test_subs import test_result\n",
    "\n",
    "    # define test criteria\n",
    "    tests = [\n",
    "        [\"1.cad\", \"1.bat\", \"1.aa\"],\n",
    "        [\"1.cad\", \"1.bat\", \"1.aa\", \"2.bat\"],\n",
    "        [\"1.cad\", \"1.bat\", \"1.aa\", \".bat\"],\n",
    "        [\"1.cad\", \"1.bat\", \".aa\", \".bat\"],\n",
    "        [\"1.cad\", \"1.\", \"1.aa\"],\n",
    "        [\"1.cad\", \"1.bat\", \"1.aa\", \"1.aa.doc\"],\n",
    "        [\"1.cad\", \"1.bat\", \"1.aa\", \".aa.doc\"]\n",
    "    ]\n",
    "    results = [\n",
    "        [\"1.aa\", \"1.bat\", \"1.cad\"],\n",
    "        [\"1.aa\", \"1.bat\", \"2.bat\", \"1.cad\"],\n",
    "        [\".bat\", \"1.aa\", \"1.bat\", \"1.cad\"],\n",
    "        [\".aa\", \".bat\", \"1.bat\", \"1.cad\"],\n",
    "        [\"1.\", \"1.aa\", \"1.cad\"],\n",
    "        [\"1.aa\", \"1.bat\", \"1.cad\", \"1.aa.doc\"],\n",
    "        [\"1.aa\", \"1.bat\", \"1.cad\", \".aa.doc\"]\n",
    "    ]\n",
    "\n",
    "\n",
    "    # run test\n",
    "    for test, result in zip(tests, results):\n",
    "        test_result(\n",
    "            sort_by_ext(test),\n",
    "            result\n",
    "        )"
   ]
  },
  {
   "cell_type": "markdown",
   "id": "fe0c8d84-d6d9-4fb9-8fa9-42baa78fa2af",
   "metadata": {
    "tags": []
   },
   "source": [
    "## Main\n",
    "\n",
    ">**&#9432; Note:**<br/>\n",
    "The implementation executed in this code for accessing other functions / methods is somewhat unorthodox and simply been done this way becuase this is not a **package structure**\n",
    "in any way shape or form, but a **collection of exercises** and by adding the parent folder it allows the relative import of other solutions,\n",
    "and the test methods as each an everyone of this files is intended to run individually.\n",
    "\n",
    "At least for the time being :)\n",
    "\n",
    "Information used for this boilerplate condition are described in \n",
    "[PEP338](https://peps.python.org/pep-0338/) and\n",
    "[PEP336](https://peps.python.org/pep-0366/)"
   ]
  },
  {
   "cell_type": "code",
   "execution_count": 196,
   "id": "f4226b10-0e73-41d1-811a-01f4586d649c",
   "metadata": {},
   "outputs": [
    {
     "name": "stdout",
     "output_type": "stream",
     "text": [
      "True:\n",
      " [\u001b[034m['1.aa', '1.bat', '1.cad'] == ['1.aa', '1.bat', '1.cad']\u001b[0m]\n",
      "\t-- executed 'test_result' in 0.0 ms\n",
      "True:\n",
      " [\u001b[034m['1.aa', '1.bat', '2.bat', '1.cad'] == ['1.aa', '1.bat', '2.bat', '1.cad']\u001b[0m]\n",
      "\t-- executed 'test_result' in 0.0 ms\n",
      "True:\n",
      " [\u001b[034m['.bat', '1.aa', '1.bat', '1.cad'] == ['.bat', '1.aa', '1.bat', '1.cad']\u001b[0m]\n",
      "\t-- executed 'test_result' in 0.0 ms\n",
      "True:\n",
      " [\u001b[034m['.aa', '.bat', '1.bat', '1.cad'] == ['.aa', '.bat', '1.bat', '1.cad']\u001b[0m]\n",
      "\t-- executed 'test_result' in 0.0 ms\n",
      "True:\n",
      " [\u001b[034m['1.', '1.aa', '1.cad'] == ['1.', '1.aa', '1.cad']\u001b[0m]\n",
      "\t-- executed 'test_result' in 0.0 ms\n",
      "True:\n",
      " [\u001b[034m['1.aa', '1.bat', '1.cad', '1.aa.doc'] == ['1.aa', '1.bat', '1.cad', '1.aa.doc']\u001b[0m]\n",
      "\t-- executed 'test_result' in 0.0 ms\n",
      "True:\n",
      " [\u001b[034m['1.aa', '1.bat', '1.cad', '.aa.doc'] == ['1.aa', '1.bat', '1.cad', '.aa.doc']\u001b[0m]\n",
      "\t-- executed 'test_result' in 0.0 ms\n"
     ]
    }
   ],
   "source": [
    "if __name__ == '__main__':\n",
    "    import sys\n",
    "    from pathlib import Path\n",
    "\n",
    "    path = str(Path().resolve().parent)\n",
    "    if path not in sys.path:\n",
    "        sys.path.insert(0, path)\n",
    "\n",
    "    test_solution()"
   ]
  },
  {
   "cell_type": "markdown",
   "id": "1df4afa8-f940-4e3f-8fdc-88928e24f30a",
   "metadata": {
    "jp-MarkdownHeadingCollapsed": true,
    "tags": []
   },
   "source": [
    "### Problem Solution\n",
    "---\n",
    "Solution as described by creator"
   ]
  },
  {
   "cell_type": "code",
   "execution_count": 56,
   "id": "633a444e-c377-44bf-b40b-2eac82462908",
   "metadata": {},
   "outputs": [],
   "source": [
    "def sort_key(file) -> tuple[str, str]:\n",
    "    name, dot, ext = file.rpartition(\".\")\n",
    "    return ((\"\", ext),(ext, name))[bool(name)]"
   ]
  },
  {
   "cell_type": "code",
   "execution_count": 64,
   "id": "98ed28c0-d4c7-4199-8800-ddf6d0ce3fd4",
   "metadata": {},
   "outputs": [],
   "source": [
    "sample = ['1.aa', '1.bat', '1.cad', '.aa.doc']"
   ]
  },
  {
   "cell_type": "code",
   "execution_count": 65,
   "id": "76a89e5c-d7e3-41de-88d9-035f1c7c04aa",
   "metadata": {},
   "outputs": [
    {
     "data": {
      "text/plain": [
       "['1.aa', '1.bat', '1.cad', '.aa.doc']"
      ]
     },
     "execution_count": 65,
     "metadata": {},
     "output_type": "execute_result"
    }
   ],
   "source": [
    "# using sorted\n",
    "sorted(sample, key=sort_key)"
   ]
  },
  {
   "cell_type": "code",
   "execution_count": 67,
   "id": "0ce0e40e-5374-4984-810d-a232d94a0736",
   "metadata": {},
   "outputs": [
    {
     "name": "stdout",
     "output_type": "stream",
     "text": [
      "['1.aa', '1.bat', '1.cad', '.aa.doc']\n"
     ]
    }
   ],
   "source": [
    "# or using .sort\n",
    "sample.sort(key=sort_key)\n",
    "print(sample)"
   ]
  },
  {
   "cell_type": "markdown",
   "id": "d8d9d926-3979-4a82-a970-34d374fcdd79",
   "metadata": {
    "jp-MarkdownHeadingCollapsed": true,
    "tags": []
   },
   "source": [
    "#### Explanation\n",
    "---\n",
    "\n",
    "here, bool(…) checks for being an non-empty string (False/True), which in turn serves as an index 0/1\n",
    "\n",
    "[functions - Bool](https://docs.python.org/3/library/functions.html#bool)<br/>\n",
    "[Library - stdtypes](https://docs.python.org/3/library/stdtypes.html)\n",
    "\n",
    "---\n",
    ">**&#9432; More:**<br/>\n",
    "sort_key is expected to return a tuple of two strings. In this part `((\"\", ext),(ext, name))` of the return statement there are two tuples. So we need an index `[bool(name)]` to chose one of them. `(False, True)`\n",
    "As described in the Python docs, bool(…) evaluates the string name into a Boolean value. And because bool() is derived from int(), in numeric contexts False/True can be used like 0/1.\n",
    "To be honest, for me this construct smells like C. But it comes handy from time to time ;-)\n",
    "---"
   ]
  },
  {
   "cell_type": "markdown",
   "id": "649364dd-1ef8-4946-8bda-28b29c71e6a6",
   "metadata": {
    "jp-MarkdownHeadingCollapsed": true,
    "tags": []
   },
   "source": [
    "### Further Investigation"
   ]
  },
  {
   "cell_type": "code",
   "execution_count": 18,
   "id": "0f8fb2a6-7215-4706-ac17-196b7451d9ed",
   "metadata": {},
   "outputs": [
    {
     "name": "stdout",
     "output_type": "stream",
     "text": [
      "['-', '.', '1', 'a', 'b', 'c']\n"
     ]
    }
   ],
   "source": [
    "sample = ['a', 'c', 'b', '.', '1', '-']\n",
    "sample.sort()\n",
    "print(sample)"
   ]
  },
  {
   "cell_type": "code",
   "execution_count": 22,
   "id": "c511784e-94ba-485c-b84e-7e0565019253",
   "metadata": {},
   "outputs": [
    {
     "name": "stdout",
     "output_type": "stream",
     "text": [
      "['.aa.doc', '1.aa', '1.bat', '1.cad']\n"
     ]
    }
   ],
   "source": [
    "sample = ['1.aa', '1.bat', '1.cad', '.aa.doc']\n",
    "sample.sort()\n",
    "print(sample)"
   ]
  },
  {
   "cell_type": "code",
   "execution_count": 145,
   "id": "470c97d2-8528-4238-9719-d87ec02d684b",
   "metadata": {},
   "outputs": [
    {
     "name": "stdout",
     "output_type": "stream",
     "text": [
      ".1\n",
      "\t- Has ext.     : True\n",
      "\t- Extension    : ['', '1']\n",
      "\t- Name         : ['', '1']\n",
      "\n",
      "1.bat\n",
      "\t- Has ext.     : True\n",
      "\t- Extension    : ['1', 'bat']\n",
      "\t- Name         : ['1', 'bat']\n",
      "\n",
      "1.cad\n",
      "\t- Has ext.     : True\n",
      "\t- Extension    : ['1', 'cad']\n",
      "\t- Name         : ['1', 'cad']\n",
      "\n",
      ".aa.doc\n",
      "\t- Has ext.     : True\n",
      "\t- Extension    : ['.aa', 'doc']\n",
      "\t- Name         : ['.aa', 'doc']\n",
      "\n"
     ]
    }
   ],
   "source": [
    "sample = ['.1', '1.bat', '1.cad', '.aa.doc']\n",
    "sorting_criteria = (\n",
    "    lambda f: False if not f.count('.') else True, # checks if the file has extension or not\n",
    "    lambda f: f.rsplit('.', 1) if f.startswith('.') else f.rsplit('.', 1), # sort by extension\n",
    "    lambda f: f.rsplit('.', 1) if f.startswith('.') else f.rsplit('.', 1) # then by name\n",
    ")\n",
    "\n",
    "# execute and sort besed on order in tuple\n",
    "# sorted(sample, key=sorting_criteria)\n",
    "# sample.sort(key=sorting_criteria)\n",
    "# print(sample)\n",
    "\n",
    "for i, file in enumerate(sample):\n",
    "    print(f\"{file}\\n\"\n",
    "          f\"\\t- {'Has ext.':<12} : {sorting_criteria[0](file)}\\n\"\n",
    "          f\"\\t- {'Extension':<12} : {sorting_criteria[1](file)}\\n\"\n",
    "          f\"\\t- {'Name':<12} : {sorting_criteria[2](file)}\\n\"\n",
    "         )\n",
    "\n"
   ]
  },
  {
   "cell_type": "code",
   "execution_count": 136,
   "id": "d1ade6d4-85f2-44af-a833-93e27aac2c26",
   "metadata": {},
   "outputs": [
    {
     "name": "stdout",
     "output_type": "stream",
     "text": [
      "True\n"
     ]
    }
   ],
   "source": [
    "print(sorting_criteria[0](\"degree.cfg\"))"
   ]
  }
 ],
 "metadata": {
  "kernelspec": {
   "display_name": "Python 3 (ipykernel)",
   "language": "python",
   "name": "python3"
  },
  "language_info": {
   "codemirror_mode": {
    "name": "ipython",
    "version": 3
   },
   "file_extension": ".py",
   "mimetype": "text/x-python",
   "name": "python",
   "nbconvert_exporter": "python",
   "pygments_lexer": "ipython3",
   "version": "3.9.13"
  }
 },
 "nbformat": 4,
 "nbformat_minor": 5
}
