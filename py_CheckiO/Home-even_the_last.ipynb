{
 "cells": [
  {
   "cell_type": "markdown",
   "id": "09037861-bfcd-4bc2-89c7-062f6bd36120",
   "metadata": {
    "tags": []
   },
   "source": [
    "<div align=\"center\">\n",
    "    <a href=\"https://py.checkio.org/\">\n",
    "        <h1><font color=\"blue\">py.CheckiO</font></h1>\n",
    "    </a>\n",
    "    <img src=\"../images/logo.png\">\n",
    "    <br/>\n",
    "    <img src=https://img.shields.io/badge/Language-Python-green?logo=python&logoColor=white\n",
    "         alt=\"Language - Python\">\n",
    "    <img src=\"https://img.shields.io/github/license/whitespace-code/daily_challenges\"\n",
    "         alt=\"License\" >\n",
    "    <img src=https://img.shields.io/badge/Status-completed-green\n",
    "         alt=\"Status\">\n",
    "    <br/>\n",
    "    <img src=\"https://img.shields.io/badge/Powered%20by%20Jupyter-blue?logo=jupyter&logoColor=F37626&label=&labelColor=4D4D4D&style=for-the-badge&color=F37626\">\n",
    "    <hr/>\n",
    "    <img src=https://img.shields.io/badge/Updated-2023.03.16-blue\n",
    "         alt=\"Updated\">\n",
    "</div>    "
   ]
  },
  {
   "cell_type": "markdown",
   "id": "c21398d7-55c6-4138-a905-66a3c92caaa5",
   "metadata": {
    "tags": []
   },
   "source": [
    "## Problem\n",
    "#### Stage:\n",
    ">Home\n",
    "#### Problem:\n",
    ">even_the_last\n",
    "<div style=\"background-color: #D3D3D3 ; padding: 10px; border: 1px solid #9E9E9E ;\">\n",
    "You are given an array of integers. You should find the sum of the integers with even indexes (0th, 2nd, 4th...). Then multiply this summed number and the final element of the array together. Don't forget that the first element has an index of 0.\n",
    "\n",
    "For an empty array, the result will always be 0 (zero).\n",
    "    \n",
    "    Input: A list of integers.\n",
    "    Output: The number as an integer.\n",
    "\n",
    "<b>Precondition</b>: 0 ≤ len(array) ≤ 20 <br/>\n",
    "all(isinstance(x, int) for x in array) <br/>\n",
    "all(-100 < x < 100 for x in array)\n",
    "</div>\n",
    "\n",
    "___"
   ]
  },
  {
   "cell_type": "markdown",
   "id": "3d654734-bd76-46aa-a483-92e28d936a84",
   "metadata": {},
   "source": [
    "## Solution"
   ]
  },
  {
   "cell_type": "code",
   "execution_count": 55,
   "id": "51fed094-96ff-4bb9-94e9-edbb5be1f776",
   "metadata": {},
   "outputs": [],
   "source": [
    "def checkio(array: list[int]) -> int:\n",
    "\n",
    "    if len(array) != 0:\n",
    "        return sum(array[::2]) * array[-1]\n",
    "\n",
    "    return 0"
   ]
  },
  {
   "cell_type": "markdown",
   "id": "0e6e4566-f562-41b7-897d-ffb630ba9a48",
   "metadata": {},
   "source": [
    "## Testing"
   ]
  },
  {
   "cell_type": "code",
   "execution_count": 54,
   "id": "fa9a128e-8fdc-4d05-b80f-0cbb4cfe2be3",
   "metadata": {},
   "outputs": [
    {
     "name": "stdout",
     "output_type": "stream",
     "text": [
      "True:\n",
      " [\u001b[034m30 == 30\u001b[0m]\n",
      "\t-- executed 'test_result' in 0.0 ns\n",
      "True:\n",
      " [\u001b[034m30 == 30\u001b[0m]\n",
      "\t-- executed 'test_result' in 0.0 ns\n",
      "True:\n",
      " [\u001b[034m36 == 36\u001b[0m]\n",
      "\t-- executed 'test_result' in 0.0 ns\n",
      "True:\n",
      " [\u001b[034m0 == 0\u001b[0m]\n",
      "\t-- executed 'test_result' in 0.0 ns\n"
     ]
    }
   ],
   "source": [
    "from test_subs import test_result\n",
    "\n",
    "test_result(checkio([0, 1, 2, 3, 4, 5]), 30)\n",
    "test_result(checkio([1, 3, 5]), 30)\n",
    "test_result(checkio([6]), 36)\n",
    "test_result(checkio([]), 0)"
   ]
  }
 ],
 "metadata": {
  "kernelspec": {
   "display_name": "Python 3 (ipykernel)",
   "language": "python",
   "name": "python3"
  },
  "language_info": {
   "codemirror_mode": {
    "name": "ipython",
    "version": 3
   },
   "file_extension": ".py",
   "mimetype": "text/x-python",
   "name": "python",
   "nbconvert_exporter": "python",
   "pygments_lexer": "ipython3",
   "version": "3.9.13"
  }
 },
 "nbformat": 4,
 "nbformat_minor": 5
}
