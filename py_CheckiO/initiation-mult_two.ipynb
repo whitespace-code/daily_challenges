{
 "cells": [
  {
   "cell_type": "markdown",
   "id": "09037861-bfcd-4bc2-89c7-062f6bd36120",
   "metadata": {},
   "source": [
    "<div align=\"center\">\n",
    "    <a href=\"https://py.checkio.org/\">\n",
    "        <h1><font color=\"blue\">py.CheckiO</font></h1>\n",
    "    </a>\n",
    "    <img src=\"../images/logo.png\">\n",
    "    <br/>\n",
    "    <img src=https://img.shields.io/badge/Language-Python-green?logo=python&logoColor=white\n",
    "         alt=\"Language - Python\">\n",
    "    <img src=\"https://img.shields.io/github/license/whitespace-code/daily_challenges\"\n",
    "         alt=\"License\" >\n",
    "    <img src=https://img.shields.io/badge/Status-completed-green\n",
    "         alt=\"Status\">\n",
    "    <br/>\n",
    "    <img src=\"https://img.shields.io/badge/Powered%20by%20Jupyter-blue?logo=jupyter&logoColor=F37626&label=&labelColor=4D4D4D&style=for-the-badge&color=F37626\">\n",
    "    <hr/>\n",
    "    <img src=https://img.shields.io/badge/Updated-2023.02.28-blue\n",
    "         alt=\"Updated\">\n",
    "</div>    "
   ]
  },
  {
   "cell_type": "markdown",
   "id": "33557aca-f0e6-49b3-994c-a7d21a16da9a",
   "metadata": {
    "tags": []
   },
   "source": [
    "## Problem\n",
    "#### Stage:\n",
    ">Initiation\n",
    "#### Problem:\n",
    ">Mult_two\n",
    "<div style=\"background-color: #D3D3D3 ; padding: 10px; border: 1px solid #9E9E9E ;\">\n",
    "    This is an intro mission, the purpose of which is to explain how to solve missions on CheckiO. \n",
    "    <br/>\n",
    "        If you want to know how to get the maximum out of using CheckiO, check out our blog post \"From Basic to Advance usage\" .\n",
    "    <br/>\n",
    "        This mission is the easiest one. Write a function that will receive 2 numbers as input and it should return the multiplication of these 2 numbers.\n",
    "    \n",
    "    Input: Two arguments. Both are of type int.\n",
    "    Output: Int.\n",
    "</div>\n",
    "\n",
    "___"
   ]
  },
  {
   "cell_type": "markdown",
   "id": "503c9306-b8c0-4ce8-a6a7-3fbb42e414a5",
   "metadata": {},
   "source": [
    "## Solution"
   ]
  },
  {
   "cell_type": "code",
   "execution_count": 2,
   "id": "e631d55a-daa0-4407-b560-170ecb43d936",
   "metadata": {},
   "outputs": [],
   "source": [
    "def mult_two(a: int, b: int) -> int:\n",
    "    return a * b"
   ]
  },
  {
   "cell_type": "markdown",
   "id": "007aead4-937e-493b-95a0-9152091d2183",
   "metadata": {},
   "source": [
    "## Testing"
   ]
  },
  {
   "cell_type": "code",
   "execution_count": 6,
   "id": "20d51b01-646a-4086-8b21-cc8f0d602229",
   "metadata": {},
   "outputs": [
    {
     "name": "stdout",
     "output_type": "stream",
     "text": [
      "True : [6 = 6] -- executed 'test_result' in 0.0 ms\n",
      "True : [0 = 0] -- executed 'test_result' in 0.0 ms\n"
     ]
    }
   ],
   "source": [
    "from test_subs import test_result\n",
    "\n",
    "test_result(mult_two(3, 2), 6)\n",
    "test_result(mult_two(0, 1), 0)"
   ]
  }
 ],
 "metadata": {
  "kernelspec": {
   "display_name": "Python 3 (ipykernel)",
   "language": "python",
   "name": "python3"
  },
  "language_info": {
   "codemirror_mode": {
    "name": "ipython",
    "version": 3
   },
   "file_extension": ".py",
   "mimetype": "text/x-python",
   "name": "python",
   "nbconvert_exporter": "python",
   "pygments_lexer": "ipython3",
   "version": "3.9.13"
  }
 },
 "nbformat": 4,
 "nbformat_minor": 5
}
