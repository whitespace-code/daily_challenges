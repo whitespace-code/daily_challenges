{
 "cells": [
  {
   "cell_type": "markdown",
   "id": "6f988796-52b9-4782-a7ae-7fe1a3f00f7e",
   "metadata": {
    "tags": []
   },
   "source": [
    "<div align=\"center\">\n",
    "    <a href=\"https://py.checkio.org/\">\n",
    "        <h1><font color=\"blue\">py.CheckiO</font></h1>\n",
    "    </a>\n",
    "    <img src=\"../images/logo.png\">\n",
    "    <br/>\n",
    "    <img src=https://img.shields.io/badge/Language-Python-green?logo=python&logoColor=white\n",
    "         alt=\"Language - Python\">\n",
    "    <img src=\"https://img.shields.io/github/license/whitespace-code/daily_challenges\"\n",
    "         alt=\"License\" >\n",
    "    <img src=https://img.shields.io/badge/Status-completed-green\n",
    "         alt=\"Status\">\n",
    "    <br/>\n",
    "    <img src=\"https://img.shields.io/badge/Powered%20by%20Jupyter-blue?logo=jupyter&logoColor=F37626&label=&labelColor=4D4D4D&style=for-the-badge&color=F37626\">\n",
    "    <hr/>\n",
    "    <img src=https://img.shields.io/badge/Updated-2023.03.16-blue\n",
    "         alt=\"Updated\">\n",
    "</div>    "
   ]
  },
  {
   "cell_type": "markdown",
   "id": "fe38bd91-3147-4b7b-a8a3-f4bf8c5041af",
   "metadata": {
    "tags": []
   },
   "source": [
    "## Problem\n",
    "#### Stage:\n",
    ">Electronics Station\n",
    "#### Problem:\n",
    ">words_order\n",
    "<div style=\"background-color: #D3D3D3 ; padding: 10px; border: 1px solid #9E9E9E ;\">\n",
    "You have a text and a list of words. You need to check if the words in a list appear in the same order as in the given text.\n",
    "\n",
    "Cases you should expect while solving this challenge:\n",
    "\n",
    "* a word from the list is not in the text - your function should return False;\n",
    "* any word can appear more than once in a text - use only the first one;\n",
    "* two words in the given list are the same - your function should return False;\n",
    "* the condition is case sensitive, which means 'hi' and 'Hi' are two different words;\n",
    "* the text includes only English letters and spaces.\n",
    "\n",
    "    <div style=\"background-color: #F2F3F5 ; padding: 1px; border: 1px solid #F2F3F5 ;\">\n",
    "    Input: Two arguments. The first one is a given text, the second is a list of words.<br/>\n",
    "    Output: A bool.\n",
    "    </div>\n",
    "\n",
    "<b>Precondition</b>: None <br/>\n",
    "</div>\n",
    "\n",
    "___"
   ]
  },
  {
   "cell_type": "markdown",
   "id": "a565341f-7ae9-46d5-aeaa-938a471f5866",
   "metadata": {},
   "source": [
    "## Solution"
   ]
  },
  {
   "cell_type": "code",
   "execution_count": 21,
   "id": "9babbca5-3b89-40d3-a86c-ba387d28687b",
   "metadata": {
    "tags": []
   },
   "outputs": [
    {
     "data": {
      "text/plain": [
       "True"
      ]
     },
     "execution_count": 21,
     "metadata": {},
     "output_type": "execute_result"
    }
   ],
   "source": [
    "def words_order(text: str, words: list) -> bool:\n",
    "    # Initialise a dictionary for the comparison\n",
    "    word_indices = {}\n",
    "\n",
    "    # Create a dictionary of supplied words in text\n",
    "    for i, word in enumerate(text.split()):\n",
    "        if word not in word_indices:\n",
    "            word_indices[word] = i\n",
    "\n",
    "    prev_index = -1\n",
    "\n",
    "    # Perfrom the checking\n",
    "    for word in words:\n",
    "        # Word in list not in the text\n",
    "        if word not in word_indices:\n",
    "            return False\n",
    "\n",
    "        # If the word is in the text confirm is correct order\n",
    "        index = word_indices[word] # Grab the current index of the word inthe text\n",
    "\n",
    "        if index <= prev_index:\n",
    "            return False\n",
    "\n",
    "        prev_index = index\n",
    "\n",
    "    # If all checks then confirm it is true\n",
    "    return True\n",
    "\n",
    "\n",
    "words_order(\"hi world im here\", [\"world\", \"here\"])"
   ]
  },
  {
   "cell_type": "markdown",
   "id": "cb9908e1-e873-4110-b504-671aa66ca1bb",
   "metadata": {},
   "source": [
    "## Testing"
   ]
  },
  {
   "cell_type": "code",
   "execution_count": 22,
   "id": "992f7372-0b4b-43b3-bca9-28eaaa39b009",
   "metadata": {},
   "outputs": [
    {
     "name": "stdout",
     "output_type": "stream",
     "text": [
      "True:\n",
      " [\u001b[034mTrue == True\u001b[0m]\n",
      "\t-- executed 'test_result' in 0.0 ns\n",
      "True:\n",
      " [\u001b[034mFalse == False\u001b[0m]\n",
      "\t-- executed 'test_result' in 0.0 ns\n",
      "True:\n",
      " [\u001b[034mTrue == True\u001b[0m]\n",
      "\t-- executed 'test_result' in 0.0 ns\n",
      "True:\n",
      " [\u001b[034mFalse == False\u001b[0m]\n",
      "\t-- executed 'test_result' in 0.0 ns\n",
      "True:\n",
      " [\u001b[034mTrue == True\u001b[0m]\n",
      "\t-- executed 'test_result' in 0.0 ns\n",
      "True:\n",
      " [\u001b[034mFalse == False\u001b[0m]\n",
      "\t-- executed 'test_result' in 0.0 ns\n",
      "True:\n",
      " [\u001b[034mFalse == False\u001b[0m]\n",
      "\t-- executed 'test_result' in 0.0 ns\n",
      "True:\n",
      " [\u001b[034mFalse == False\u001b[0m]\n",
      "\t-- executed 'test_result' in 0.0 ns\n",
      "True:\n",
      " [\u001b[034mFalse == False\u001b[0m]\n",
      "\t-- executed 'test_result' in 0.0 ns\n",
      "True:\n",
      " [\u001b[034mFalse == False\u001b[0m]\n",
      "\t-- executed 'test_result' in 0.0 ns\n",
      "True:\n",
      " [\u001b[034mFalse == False\u001b[0m]\n",
      "\t-- executed 'test_result' in 0.0 ns\n",
      "True:\n",
      " [\u001b[034mTrue == True\u001b[0m]\n",
      "\t-- executed 'test_result' in 0.0 ns\n"
     ]
    }
   ],
   "source": [
    "from test_subs import test_result\n",
    "\n",
    "test_result(words_order(\"hi world im here\", [\"world\", \"here\"]),  True)\n",
    "test_result(words_order(\"hi world im here\", [\"here\", \"world\"]),  False)\n",
    "test_result(words_order(\"hi world im here\", [\"world\"]),  True)\n",
    "test_result(words_order(\"hi world im here\", [\"world\", \"here\", \"hi\"]),  False)\n",
    "test_result(words_order(\"hi world im here\", [\"world\", \"im\", \"here\"]),  True)\n",
    "test_result(words_order(\"hi world im here\", [\"world\", \"hi\", \"here\"]),  False)\n",
    "test_result(words_order(\"hi world im here\", [\"world\", \"world\"]),  False)\n",
    "test_result(words_order(\"hi world im here\", [\"country\", \"world\"]),  False)\n",
    "test_result(words_order(\"hi world im here\", [\"wo\", \"rld\"]),  False)\n",
    "test_result(words_order(\"\", [\"world\", \"here\"]),  False)\n",
    "test_result(words_order(\"hi world world im here\", [\"world\", \"world\"]),  False)\n",
    "test_result(\n",
    "    words_order(\"hi world world im here hi world world im here\", [\"world\", \"here\"]),\n",
    "                True)"
   ]
  }
 ],
 "metadata": {
  "kernelspec": {
   "display_name": "Python 3 (ipykernel)",
   "language": "python",
   "name": "python3"
  },
  "language_info": {
   "codemirror_mode": {
    "name": "ipython",
    "version": 3
   },
   "file_extension": ".py",
   "mimetype": "text/x-python",
   "name": "python",
   "nbconvert_exporter": "python",
   "pygments_lexer": "ipython3",
   "version": "3.9.13"
  }
 },
 "nbformat": 4,
 "nbformat_minor": 5
}
