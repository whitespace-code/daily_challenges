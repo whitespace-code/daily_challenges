{
 "cells": [
  {
   "cell_type": "markdown",
   "id": "09037861-bfcd-4bc2-89c7-062f6bd36120",
   "metadata": {},
   "source": [
    "<div align=\"center\">\n",
    "    <a href=\"https://py.checkio.org/\">\n",
    "        <h1><font color=\"blue\">py.CheckiO</font></h1>\n",
    "    </a>\n",
    "    <img src=\"../images/logo.png\">\n",
    "    <br/>\n",
    "    <img src=https://img.shields.io/badge/Language-Python-green?logo=python&logoColor=white\n",
    "         alt=\"Language - Python\">\n",
    "    <img src=\"https://img.shields.io/github/license/whitespace-code/daily_challenges\"\n",
    "         alt=\"License\" >\n",
    "    <img src=https://img.shields.io/badge/Status-completed-green\n",
    "         alt=\"Status\">\n",
    "    <br/>\n",
    "    <img src=\"https://img.shields.io/badge/Powered%20by%20Jupyter-blue?logo=jupyter&logoColor=F37626&label=&labelColor=4D4D4D&style=for-the-badge&color=F37626\">\n",
    "    <hr/>\n",
    "    <img src=https://img.shields.io/badge/Updated-2023.03.07-blue\n",
    "         alt=\"Updated\">\n",
    "</div>    "
   ]
  },
  {
   "cell_type": "markdown",
   "id": "c21398d7-55c6-4138-a905-66a3c92caaa5",
   "metadata": {
    "tags": []
   },
   "source": [
    "## Problem\n",
    "#### Stage:\n",
    ">Initiation\n",
    "#### Problem:\n",
    ">first_word\n",
    "<div style=\"background-color: #D3D3D3 ; padding: 10px; border: 1px solid #9E9E9E ;\">\n",
    "You are given a string and you have to find its first word.<br/>\n",
    "This is a simplified version of the First Word mission, which can be solved later.<br/>\n",
    "The input string consists of only English letters and spaces. There aren’t any spaces at the beginning and the end of the string.\n",
    "    \n",
    "    Input: A string.\n",
    "    Output: A string.\n",
    "</div>\n",
    "\n",
    "___"
   ]
  },
  {
   "cell_type": "markdown",
   "id": "3d654734-bd76-46aa-a483-92e28d936a84",
   "metadata": {},
   "source": [
    "## Solution"
   ]
  },
  {
   "cell_type": "code",
   "execution_count": 2,
   "id": "51fed094-96ff-4bb9-94e9-edbb5be1f776",
   "metadata": {},
   "outputs": [],
   "source": [
    "def first_word(text: str) -> str:\n",
    "    first_word = text.rsplit(' ')\n",
    "    return first_word[0]"
   ]
  },
  {
   "cell_type": "markdown",
   "id": "0e6e4566-f562-41b7-897d-ffb630ba9a48",
   "metadata": {},
   "source": [
    "## Testing"
   ]
  },
  {
   "cell_type": "code",
   "execution_count": 5,
   "id": "fa9a128e-8fdc-4d05-b80f-0cbb4cfe2be3",
   "metadata": {},
   "outputs": [
    {
     "name": "stdout",
     "output_type": "stream",
     "text": [
      "True : [Hello = Hello] -- executed 'test_result' in 0.0 ms\n",
      "True : [a = a] -- executed 'test_result' in 0.0 ms\n",
      "True : [greeting = greeting] -- executed 'test_result' in 0.0 ms\n",
      "True : [hi = hi] -- executed 'test_result' in 0.0 ms\n"
     ]
    }
   ],
   "source": [
    "from test_subs import test_result\n",
    "\n",
    "test_result(first_word(\"Hello world\"), \"Hello\")\n",
    "test_result(first_word(\"a word\"), \"a\")\n",
    "test_result(first_word(\"greeting from CheckiO Planet\"), \"greeting\")\n",
    "test_result(first_word(\"hi\"), \"hi\")"
   ]
  }
 ],
 "metadata": {
  "kernelspec": {
   "display_name": "Python 3 (ipykernel)",
   "language": "python",
   "name": "python3"
  },
  "language_info": {
   "codemirror_mode": {
    "name": "ipython",
    "version": 3
   },
   "file_extension": ".py",
   "mimetype": "text/x-python",
   "name": "python",
   "nbconvert_exporter": "python",
   "pygments_lexer": "ipython3",
   "version": "3.9.13"
  }
 },
 "nbformat": 4,
 "nbformat_minor": 5
}
