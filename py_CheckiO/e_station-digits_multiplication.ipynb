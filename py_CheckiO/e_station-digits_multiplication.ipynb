{
 "cells": [
  {
   "cell_type": "markdown",
   "id": "6f988796-52b9-4782-a7ae-7fe1a3f00f7e",
   "metadata": {
    "tags": []
   },
   "source": [
    "<div align=\"center\">\n",
    "    <a href=\"https://py.checkio.org/\">\n",
    "        <h1><font color=\"blue\">py.CheckiO</font></h1>\n",
    "    </a>\n",
    "    <img src=\"../images/logo.png\">\n",
    "    <br/>\n",
    "    <img src=https://img.shields.io/badge/Language-Python-green?logo=python&logoColor=white\n",
    "         alt=\"Language - Python\">\n",
    "    <img src=\"https://img.shields.io/github/license/whitespace-code/daily_challenges\"\n",
    "         alt=\"License\" >\n",
    "    <img src=https://img.shields.io/badge/Status-completed-green\n",
    "         alt=\"Status\">\n",
    "    <br/>\n",
    "    <img src=\"https://img.shields.io/badge/Powered%20by%20Jupyter-blue?logo=jupyter&logoColor=F37626&label=&labelColor=4D4D4D&style=for-the-badge&color=F37626\">\n",
    "    <hr/>\n",
    "    <img src=https://img.shields.io/badge/Updated-2023.06.18-blue\n",
    "         alt=\"Updated\">\n",
    "</div>    "
   ]
  },
  {
   "cell_type": "markdown",
   "id": "fe38bd91-3147-4b7b-a8a3-f4bf8c5041af",
   "metadata": {
    "jp-MarkdownHeadingCollapsed": true,
    "tags": []
   },
   "source": [
    "## Problem\n",
    "#### Stage:\n",
    ">Electronics Station\n",
    "#### Problem:\n",
    ">digits_mulitiplication\n",
    "<div style=\"background-color: #D3D3D3 ; padding: 10px; border: 1px solid #9E9E9E ;\">\n",
    "You are given a positive number. Your function should calculate the product of the digits excluding any zeroes.<br/>\n",
    "For example: <br/>\n",
    "The number given is 123405. The result will be 1*2*3*4*5=120 <br/>\n",
    "(don't forget to exclude zeroes).\n",
    "    <br/><br/>\n",
    "    <div style=\"background-color: #F2F3F5 ; padding: 1px; border: 1px solid #F2F3F5 ;\">\n",
    "        <b>Input:</b> A positive integer (int).<br/>\n",
    "        <b>Output:</b> The product of the digits as an integer (int).\n",
    "    </div>\n",
    "    <br/>\n",
    "    <b>How it is used:</b> This task can teach you how to solve a problem with simple data type conversion.<br/>\n",
    "<b>Precondition</b>: 0 &lt; number &lt; 106 <br/>\n",
    "</div>\n",
    "\n",
    "___"
   ]
  },
  {
   "cell_type": "markdown",
   "id": "a565341f-7ae9-46d5-aeaa-938a471f5866",
   "metadata": {},
   "source": [
    "## Solution"
   ]
  },
  {
   "cell_type": "code",
   "execution_count": 23,
   "id": "9babbca5-3b89-40d3-a86c-ba387d28687b",
   "metadata": {
    "tags": []
   },
   "outputs": [
    {
     "name": "stdout",
     "output_type": "stream",
     "text": [
      "120\n",
      "True:\n",
      " [\u001b[034m120 == 120\u001b[0m]\n",
      "\t-- executed 'test_result' in 0.0 ms\n",
      "True:\n",
      " [\u001b[034m729 == 729\u001b[0m]\n",
      "\t-- executed 'test_result' in 0.0 ms\n",
      "True:\n",
      " [\u001b[034m1 == 1\u001b[0m]\n",
      "\t-- executed 'test_result' in 0.0 ms\n",
      "True:\n",
      " [\u001b[034m1 == 1\u001b[0m]\n",
      "\t-- executed 'test_result' in 0.0 ms\n"
     ]
    }
   ],
   "source": [
    "def checkio(number: int) -> int:\n",
    "    # convert the number to a list\n",
    "    num = list(map(int, str(number)))\n",
    "    result = 1\n",
    "    # mulitply each item in the list\n",
    "    for item in num:\n",
    "        if item != 0:\n",
    "            result *= item\n",
    "    return result\n",
    "\n",
    "\n",
    "print(checkio(123405))\n",
    "\n",
    "# Run the test\n",
    "test_solution(checkio)"
   ]
  },
  {
   "cell_type": "markdown",
   "id": "cb9908e1-e873-4110-b504-671aa66ca1bb",
   "metadata": {
    "jp-MarkdownHeadingCollapsed": true,
    "tags": []
   },
   "source": [
    "## Testing"
   ]
  },
  {
   "cell_type": "code",
   "execution_count": null,
   "id": "992f7372-0b4b-43b3-bca9-28eaaa39b009",
   "metadata": {},
   "outputs": [],
   "source": [
    "from test_subs import test_result\n",
    "def test_solution(func):\n",
    "    # define test criteria\n",
    "    tests = [\n",
    "        123405,\n",
    "        999,\n",
    "        1000,\n",
    "        1111\n",
    "    ]\n",
    "    results = [\n",
    "        120,\n",
    "        729,\n",
    "        1,\n",
    "        1\n",
    "    ]\n",
    "\n",
    "\n",
    "    # run test\n",
    "    for test, result in zip(tests, results):\n",
    "        test_result(\n",
    "            func(test),\n",
    "            result\n",
    "        )"
   ]
  }
 ],
 "metadata": {
  "kernelspec": {
   "display_name": "Python 3 (ipykernel)",
   "language": "python",
   "name": "python3"
  },
  "language_info": {
   "codemirror_mode": {
    "name": "ipython",
    "version": 3
   },
   "file_extension": ".py",
   "mimetype": "text/x-python",
   "name": "python",
   "nbconvert_exporter": "python",
   "pygments_lexer": "ipython3",
   "version": "3.9.13"
  }
 },
 "nbformat": 4,
 "nbformat_minor": 5
}
