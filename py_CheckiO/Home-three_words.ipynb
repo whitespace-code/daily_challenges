{
 "cells": [
  {
   "cell_type": "markdown",
   "id": "09037861-bfcd-4bc2-89c7-062f6bd36120",
   "metadata": {
    "tags": []
   },
   "source": [
    "<div align=\"center\">\n",
    "    <a href=\"https://py.checkio.org/\">\n",
    "        <h1><font color=\"blue\">py.CheckiO</font></h1>\n",
    "    </a>\n",
    "    <img src=\"../images/logo.png\">\n",
    "    <br/>\n",
    "    <img src=https://img.shields.io/badge/Language-Python-green?logo=python&logoColor=white\n",
    "         alt=\"Language - Python\">\n",
    "    <img src=\"https://img.shields.io/github/license/whitespace-code/daily_challenges\"\n",
    "         alt=\"License\" >\n",
    "    <img src=https://img.shields.io/badge/Status-completed-green\n",
    "         alt=\"Status\">\n",
    "    <br/>\n",
    "    <img src=\"https://img.shields.io/badge/Powered%20by%20Jupyter-blue?logo=jupyter&logoColor=F37626&label=&labelColor=4D4D4D&style=for-the-badge&color=F37626\">\n",
    "    <hr/>\n",
    "    <img src=https://img.shields.io/badge/Updated-2023.03.16-blue\n",
    "         alt=\"Updated\">\n",
    "</div>    "
   ]
  },
  {
   "cell_type": "markdown",
   "id": "c21398d7-55c6-4138-a905-66a3c92caaa5",
   "metadata": {
    "tags": []
   },
   "source": [
    "## Problem\n",
    "#### Stage:\n",
    ">Home\n",
    "#### Problem:\n",
    ">three_words\n",
    "<div style=\"background-color: #D3D3D3 ; padding: 10px; border: 1px solid #9E9E9E ;\">\n",
    "Let's teach the Robots to distinguish words and numbers.\n",
    "\n",
    "You are given a string with words and numbers separated by whitespaces (one space). The words contains only letters. You should check if the string contains three words in succession. For example, the string \"start 5 one two three 7 end\" contains three words in succession.\n",
    "    \n",
    "    Input: A string with words.\n",
    "    Output: The answer as a boolean.\n",
    "\n",
    "<b>Precondition</b>: The input contains words and/or numbers. There are no mixed words (letters and digits combined).<br/>\n",
    "0 < len(words) < 100\n",
    "</div>\n",
    "\n",
    "___"
   ]
  },
  {
   "cell_type": "markdown",
   "id": "3d654734-bd76-46aa-a483-92e28d936a84",
   "metadata": {},
   "source": [
    "## Solution"
   ]
  },
  {
   "cell_type": "code",
   "execution_count": 49,
   "id": "51fed094-96ff-4bb9-94e9-edbb5be1f776",
   "metadata": {},
   "outputs": [
    {
     "data": {
      "text/plain": [
       "False"
      ]
     },
     "execution_count": 49,
     "metadata": {},
     "output_type": "execute_result"
    }
   ],
   "source": [
    "def checkio(words: str) -> bool:\n",
    "    count = 0\n",
    "\n",
    "    for word in words.split(' '):\n",
    "        if word.isnumeric():\n",
    "            count = 0\n",
    "        else:\n",
    "            count += 1\n",
    "            if count == 3:\n",
    "                return True\n",
    "\n",
    "    return False"
   ]
  },
  {
   "cell_type": "markdown",
   "id": "0e6e4566-f562-41b7-897d-ffb630ba9a48",
   "metadata": {},
   "source": [
    "## Testing"
   ]
  },
  {
   "cell_type": "code",
   "execution_count": 50,
   "id": "fa9a128e-8fdc-4d05-b80f-0cbb4cfe2be3",
   "metadata": {},
   "outputs": [
    {
     "name": "stdout",
     "output_type": "stream",
     "text": [
      "True:\n",
      " [\u001b[034mTrue == True\u001b[0m]\n",
      "\t-- executed 'test_result' in 0.0 ns\n",
      "True:\n",
      " [\u001b[034mTrue == True\u001b[0m]\n",
      "\t-- executed 'test_result' in 0.0 ns\n",
      "True:\n",
      " [\u001b[034mFalse == False\u001b[0m]\n",
      "\t-- executed 'test_result' in 0.0 ns\n",
      "True:\n",
      " [\u001b[034mFalse == False\u001b[0m]\n",
      "\t-- executed 'test_result' in 0.0 ns\n",
      "True:\n",
      " [\u001b[034mTrue == True\u001b[0m]\n",
      "\t-- executed 'test_result' in 0.0 ns\n",
      "True:\n",
      " [\u001b[034mFalse == False\u001b[0m]\n",
      "\t-- executed 'test_result' in 0.0 ns\n"
     ]
    }
   ],
   "source": [
    "from test_subs import test_result\n",
    "\n",
    "test_result(checkio(\"start 5 one two three 7 end\"), True)\n",
    "test_result(checkio(\"Hello World hello\"), True)\n",
    "test_result(checkio(\"He is 123 man\"), False)\n",
    "test_result(checkio(\"1 2 3 4\"), False)\n",
    "test_result(checkio(\"bla bla bla bla\"), True)\n",
    "test_result(checkio(\"Hi\"), False)"
   ]
  }
 ],
 "metadata": {
  "kernelspec": {
   "display_name": "Python 3 (ipykernel)",
   "language": "python",
   "name": "python3"
  },
  "language_info": {
   "codemirror_mode": {
    "name": "ipython",
    "version": 3
   },
   "file_extension": ".py",
   "mimetype": "text/x-python",
   "name": "python",
   "nbconvert_exporter": "python",
   "pygments_lexer": "ipython3",
   "version": "3.9.13"
  }
 },
 "nbformat": 4,
 "nbformat_minor": 5
}
